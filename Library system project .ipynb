{
 "cells": [
  {
   "cell_type": "markdown",
   "id": "f04164ea",
   "metadata": {
    "id": "Bp1f_yG-9V6I"
   },
   "source": [
    "> ### Harry works in the library, Harry is tired of writing data in paper records so Harry decides to go digital.\n",
    "> ### Harry wants a program to do all the operations in the library.\n",
    "> ### Let's help Harry!"
   ]
  },
  {
   "cell_type": "markdown",
   "id": "558612e7",
   "metadata": {
    "id": "3VtlrGqK9V6L"
   },
   "source": [
    "# Task 1 : \n",
    "- #### task 1.1 Make Class(Library) with attributes:\n",
    "    - booksList  \n",
    "    - name of lirary  \n",
    "    - lended books (name of user, book) \n",
    "- #### task 1.2 Make method to display available Books.\n",
    "- #### task 1.3 Make method for books lending.\n",
    "    - Don't forget to check if book isn't already lended \n",
    "- #### task 1.4 Make method to add Book to library.\n",
    "- #### task 1.5 Make method to return borrowed book."
   ]
  },
  {
   "cell_type": "code",
   "execution_count": null,
   "id": "6c6f244f",
   "metadata": {},
   "outputs": [],
   "source": [
    "class Library:\n",
    "    \n",
    "    def __init__(self, booksList, name):\n",
    "        self.booksList = booksList\n",
    "        self.booksList = list(map(lambda x: x.lower(), self.booksList))\n",
    "        self.name = name\n",
    "        self.lendDict = {} # keys are the books and values are the users \n",
    "        \n",
    "    def displayBooks(self):\n",
    "        print(f\"We have the following books in our library: {self.name}\")\n",
    "        for book in self.booksList:\n",
    "            print(book)\n",
    "            \n",
    "    def lendBook(self, user, book):\n",
    "        book = book.lower()\n",
    "        if book not in self.booksList:\n",
    "            print(\"This book is unavailable\")\n",
    "        elif book in self.lendDict.keys():\n",
    "            print(f\"Book: {book} is already taken by {self.lendDict[book]}\")\n",
    "        else:\n",
    "            self.lendDict[book] = user\n",
    "            print(f\"Lender database has been updated, please take the book\")\n",
    "    \n",
    "    def addBook(self, book):\n",
    "        book = book.lower()\n",
    "        if book in self.booksList:\n",
    "            print(\"This book already exists\")\n",
    "        else:\n",
    "            self.booksList.append(book)\n",
    "            print(f\"Book: {book} has been added to your collection\" )\n",
    "    \n",
    "    def returnBook(self, book):\n",
    "        if book in self.lendDict.keys():\n",
    "            self.lendDict.pop(book)\n",
    "        else:\n",
    "            print(\"This book is not lended from our library\")"
   ]
  },
  {
   "cell_type": "code",
   "execution_count": 2,
   "id": "e2b1b465",
   "metadata": {},
   "outputs": [],
   "source": [
    "myLibrary = Library(['Harry potter', '1919', 'vertigo'], 'Bookabikia')"
   ]
  },
  {
   "cell_type": "code",
   "execution_count": 3,
   "id": "db1252fa",
   "metadata": {},
   "outputs": [
    {
     "name": "stdout",
     "output_type": "stream",
     "text": [
      "We have the following books in our library: Bookabikia\n",
      "harry potter\n",
      "1919\n",
      "vertigo\n"
     ]
    }
   ],
   "source": [
    "myLibrary.displayBooks()"
   ]
  },
  {
   "cell_type": "code",
   "execution_count": 4,
   "id": "ee1eaa2f",
   "metadata": {},
   "outputs": [
    {
     "name": "stdout",
     "output_type": "stream",
     "text": [
      "This book is unavailable\n"
     ]
    }
   ],
   "source": [
    "myLibrary.lendBook('joe', 'animal farm')"
   ]
  },
  {
   "cell_type": "code",
   "execution_count": 5,
   "id": "c97d4a19",
   "metadata": {},
   "outputs": [
    {
     "name": "stdout",
     "output_type": "stream",
     "text": [
      "Lender database has been updated, please take the book\n"
     ]
    }
   ],
   "source": [
    "myLibrary.lendBook('joe', '1919')"
   ]
  },
  {
   "cell_type": "code",
   "execution_count": 6,
   "id": "9985b759",
   "metadata": {},
   "outputs": [
    {
     "name": "stdout",
     "output_type": "stream",
     "text": [
      "Book: 1919 is arlready taken by joe\n"
     ]
    }
   ],
   "source": [
    "myLibrary.lendBook('john', '1919')"
   ]
  },
  {
   "cell_type": "code",
   "execution_count": 7,
   "id": "22f96c3b",
   "metadata": {},
   "outputs": [
    {
     "name": "stdout",
     "output_type": "stream",
     "text": [
      "Book: animal farm has been added to your collection\n"
     ]
    }
   ],
   "source": [
    "myLibrary.addBook('animal farm')"
   ]
  },
  {
   "cell_type": "code",
   "execution_count": 8,
   "id": "a1775bda",
   "metadata": {},
   "outputs": [
    {
     "name": "stdout",
     "output_type": "stream",
     "text": [
      "This book already exists\n"
     ]
    }
   ],
   "source": [
    "myLibrary.addBook('vertigo')"
   ]
  },
  {
   "cell_type": "code",
   "execution_count": 9,
   "id": "0bb712f0",
   "metadata": {},
   "outputs": [
    {
     "name": "stdout",
     "output_type": "stream",
     "text": [
      "We have the following books in our library: Bookabikia\n",
      "harry potter\n",
      "1919\n",
      "vertigo\n",
      "animal farm\n"
     ]
    }
   ],
   "source": [
    "myLibrary.displayBooks()"
   ]
  },
  {
   "cell_type": "code",
   "execution_count": 11,
   "id": "ad9ecdf4",
   "metadata": {},
   "outputs": [],
   "source": [
    "myLibrary.returnBook('1919')"
   ]
  },
  {
   "cell_type": "code",
   "execution_count": 12,
   "id": "9b0af178",
   "metadata": {},
   "outputs": [
    {
     "name": "stdout",
     "output_type": "stream",
     "text": [
      "Lender database has been updated, please take the book\n"
     ]
    }
   ],
   "source": [
    "myLibrary.lendBook('john', '1919')"
   ]
  },
  {
   "cell_type": "code",
   "execution_count": null,
   "id": "3b3b97f2",
   "metadata": {},
   "outputs": [],
   "source": []
  },
  {
   "cell_type": "markdown",
   "id": "4e2144c0",
   "metadata": {
    "id": "yLoUqXT39V6V"
   },
   "source": [
    "# Task 2 : \n",
    "- #### task 2.1 Make object(Harry) with attributes:\n",
    "    - booksList  = ['Python', 'Rich Daddy Poor Daddy', 'Harry Potter', 'C++ Basics', 'Algorithms by CLRS']\n",
    "    - name of lirary  = \"CodeWithHarry\"\n",
    "- #### task 2.2 Make program run with this choices. __(Don't forget the welcome message)__\n",
    "    - 1. Display Books\n",
    "    - 2. Lend a Book\n",
    "    - 3. Add a Book\n",
    "    - 4. Return a Book\n",
    "- #### task 2.3 Make prgram ends or continue."
   ]
  },
  {
   "cell_type": "code",
   "execution_count": 23,
   "id": "07b20490",
   "metadata": {},
   "outputs": [
    {
     "name": "stdout",
     "output_type": "stream",
     "text": [
      "Welcome to CodeWithHarry, please enter your choice: \n",
      "\n",
      "    choose (1) to display books\n",
      "    choose (2) to lend a book\n",
      "    choose (3) to add a book\n",
      "    choose (4) to return a book\n",
      "    \n",
      "2\n",
      "User have chosen 2\n",
      "Please enter the name of the book you want to borrow: python\n",
      "Please enter your name: john\n",
      "Lender database has been updated, please take the book\n",
      "{'python': 'john'}\n",
      "Do you want to quit? (q) n\n",
      "Welcome to CodeWithHarry, please enter your choice: \n",
      "\n",
      "    choose (1) to display books\n",
      "    choose (2) to lend a book\n",
      "    choose (3) to add a book\n",
      "    choose (4) to return a book\n",
      "    \n",
      "2\n",
      "User have chosen 2\n",
      "Please enter the name of the book you want to borrow: python\n",
      "Please enter your name: joe\n",
      "Book: python is arlready taken by john\n",
      "{'python': 'john'}\n",
      "Do you want to quit? (q) n\n",
      "Welcome to CodeWithHarry, please enter your choice: \n",
      "\n",
      "    choose (1) to display books\n",
      "    choose (2) to lend a book\n",
      "    choose (3) to add a book\n",
      "    choose (4) to return a book\n",
      "    \n",
      "4\n",
      "User have chosen 4\n",
      "Please enter the name of the book you want to return: python\n",
      "Do you want to quit? (q) n\n",
      "Welcome to CodeWithHarry, please enter your choice: \n",
      "\n",
      "    choose (1) to display books\n",
      "    choose (2) to lend a book\n",
      "    choose (3) to add a book\n",
      "    choose (4) to return a book\n",
      "    \n",
      "2\n",
      "User have chosen 2\n",
      "Please enter the name of the book you want to borrow: python\n",
      "Please enter your name: joe\n",
      "Lender database has been updated, please take the book\n",
      "{'python': 'joe'}\n",
      "Do you want to quit? (q) q\n"
     ]
    }
   ],
   "source": [
    "harry = Library(  \n",
    "    ['Python', 'Rich Daddy Poor Daddy', 'Harry Potter', 'C++ Basics', 'Algorithms by CLRS'],\n",
    "    \"CodeWithHarry\"\n",
    ")\n",
    "\n",
    "while True:\n",
    "    \n",
    "    print(f\"Welcome to {harry.name}, please enter your choice: \")\n",
    "    print(\"\"\"\n",
    "    choose (1) to display books\n",
    "    choose (2) to lend a book\n",
    "    choose (3) to add a book\n",
    "    choose (4) to return a book\n",
    "    \"\"\")\n",
    "    \n",
    "    \n",
    "    user_choice = input()\n",
    "    \n",
    "    if user_choice not in ['1','2','3','4']:\n",
    "        print(\"Please enter a valid option\")\n",
    "        continue\n",
    "    else:\n",
    "        user_choice = int(user_choice)\n",
    "        \n",
    "    print(f\"User have chosen {user_choice}\")\n",
    "    \n",
    "    if user_choice == 1:\n",
    "        harry.displayBooks()\n",
    "    elif user_choice == 2:\n",
    "        book = input(\"Please enter the name of the book you want to borrow: \")\n",
    "        user = input(\"Please enter your name: \")\n",
    "        harry.lendBook(user, book)\n",
    "        print(harry.lendDict)\n",
    "    elif user_choice == 3:\n",
    "        book = input(\"Please enter the name of the book you want to add: \")\n",
    "        harry.addBook(book)\n",
    "    else:\n",
    "        book = input(\"Please enter the name of the book you want to return: \")\n",
    "        harry.returnBook(book)\n",
    "    \n",
    "\n",
    "    \n",
    "    \n",
    "    is_exit = input(\"Do you want to quit? (q) \")\n",
    "    if is_exit =='q':\n",
    "        break"
   ]
  },
  {
   "cell_type": "code",
   "execution_count": null,
   "id": "f89b0cc7",
   "metadata": {},
   "outputs": [],
   "source": []
  }
 ],
 "metadata": {
  "kernelspec": {
   "display_name": "Python 3 (ipykernel)",
   "language": "python",
   "name": "python3"
  },
  "language_info": {
   "codemirror_mode": {
    "name": "ipython",
    "version": 3
   },
   "file_extension": ".py",
   "mimetype": "text/x-python",
   "name": "python",
   "nbconvert_exporter": "python",
   "pygments_lexer": "ipython3",
   "version": "3.9.15"
  }
 },
 "nbformat": 4,
 "nbformat_minor": 5
}
